{
 "cells": [
  {
   "cell_type": "markdown",
   "id": "81ee4299-59b2-4aa5-8e76-9a907f44b6b5",
   "metadata": {},
   "source": [
    "# Random Forests vs Decision Trees\n",
    "In this notebook, I shall walk through a dataset called the \"Heart Disease Dataset\" to demonstrate some concets related to Random Forests, you can read more about the dataset [here](https://www.kaggle.com/datasets/johnsmith88/heart-disease-dataset/data).\n"
   ]
  },
  {
   "cell_type": "markdown",
   "id": "d9f0fc62-1164-4104-9507-1fe7ee047902",
   "metadata": {},
   "source": [
    "## Random Forest Introduction"
   ]
  },
  {
   "cell_type": "markdown",
   "id": "d1d62b19-b397-4405-abe9-aace3f06ed5d",
   "metadata": {},
   "source": [
    "How to build a random forest?\n",
    "\n",
    "1. Select a sub-set of data. (Bootstrapped dataset)\n",
    "2. Train a decision tree on the bootstrapped dataset but only use a random subset of features\n",
    "3. Evaluate the tree: Do OBE or Out-Of-Bag evaluation on the samples that WERE NOT IN THE BOOTSTRAPPED DATASET\n",
    "4. Repeat Step 1,2 and 3 for a bunch of times until you get a good enough result. "
   ]
  },
  {
   "cell_type": "markdown",
   "id": "58630073-e621-4b10-b99d-91201e9de51f",
   "metadata": {},
   "source": [
    "## Software Dependancies"
   ]
  },
  {
   "cell_type": "code",
   "execution_count": 1,
   "id": "e6089b91-2f95-4e57-8446-5919067a06c4",
   "metadata": {},
   "outputs": [],
   "source": [
    "import os\n",
    "import random\n",
    "import sys\n",
    "\n",
    "import matplotlib.pyplot as plt\n",
    "import numpy as np\n",
    "import pandas as pd\n",
    "import seaborn as sns\n",
    "\n",
    "from scipy.stats import chi2_contingency\n",
    "\n",
    "from sklearn.model_selection import train_test_split, cross_val_score, GridSearchCV\n",
    "from sklearn.ensemble import RandomForestClassifier\n",
    "from sklearn.tree import DecisionTreeClassifier\n",
    "from sklearn.metrics import confusion_matrix, f1_score, recall_score, precision_score\n",
    "\n",
    "\n"
   ]
  },
  {
   "cell_type": "code",
   "execution_count": 2,
   "id": "04b953a5-5676-4b7b-afdb-a1c451410a46",
   "metadata": {},
   "outputs": [],
   "source": [
    "DATA_DIR = \"data/\"\n",
    "DATA_EXT = \".data\"\n",
    "RANDOM_STATE = 42"
   ]
  },
  {
   "cell_type": "code",
   "execution_count": 3,
   "id": "42da400d-2e35-4010-86f6-2a09d6cd8dcb",
   "metadata": {},
   "outputs": [],
   "source": [
    "FEATURES = [\n",
    "\"age\",\n",
    "\"sex\",\n",
    "\"chest_pain_type\",\n",
    "\"resting_admission_bp\",\n",
    "\"serum_cholesterol\",\n",
    "\"fasting_blood_sugar\",\n",
    "\"resting_ecg_results\",\n",
    "\"max_heart_rate\",\n",
    "\"exercise_induced_angina\",\n",
    "\"oldpeak\",\n",
    "\"slope_peak_st_segment\",\n",
    "\"num_vessels_colored\",\n",
    "\"thal\",\n",
    "\"target\"\n",
    "]\n",
    "\n",
    "TARGET_COLUMN = \"target\""
   ]
  },
  {
   "cell_type": "code",
   "execution_count": 4,
   "id": "fecc02d6-20ae-4647-b2c2-01fd781db23a",
   "metadata": {},
   "outputs": [],
   "source": [
    "continuous_cols = [\"serum_cholesterol\",\n",
    "                   \"max_heart_rate\",\n",
    "                   \"resting_admission_bp\",\n",
    "                   \"oldpeak\",\n",
    "                   \"age\",\n",
    "                   \"resting_admission_bp\"\n",
    "                  ]\n",
    "discrete_cols = [\"resting_ecg_results\",\n",
    "                 \"exercise_induced_angina\",\n",
    "                 \"fasting_blood_sugar\",\n",
    "                 \"slope_peak_st_segment\",\n",
    "                 \"thal\",\n",
    "                 \"num_vessels_colored\",\n",
    "                 \"sex\",\n",
    "                 \"chest_pain_type\",\n",
    "                 \n",
    "                ]\n",
    "                 "
   ]
  },
  {
   "cell_type": "code",
   "execution_count": 5,
   "id": "83d326b0-31aa-4365-93ab-c05176bab046",
   "metadata": {},
   "outputs": [],
   "source": [
    "if not os.path.exists(DATA_DIR):\n",
    "    print(\"FATAL: {} does not exist. Please check and re-run this notebook. Exiting..\")\n",
    "    sys.exit(1)"
   ]
  },
  {
   "cell_type": "markdown",
   "id": "49a6ba38-5aeb-4333-8dd8-55e887139e74",
   "metadata": {},
   "source": [
    "## Dataset Details & Loading Data\n",
    "- This database contains 76 attributes, but all published experiments refer to using a subset of 14 of them.  \n",
    "- In particular, the Cleveland database is the only one that has been used by ML researchers to date.  \n",
    "- The \"goal\" field refers to the presence of heart disease in the patient.\n",
    "- It is integer valued from 0 (no presence) to 4.\n",
    "- Experiments with the Cleveland database have concentrated on simply attempting to distinguish presence (values 1,2,3,4) from absence (value 0).   \n",
    "\n",
    "<hr>\n",
    "\n",
    "Data Sources:  \n",
    "1. Hungarian Institute of Cardiology. Budapest: Andras Janosi, M.D.\n",
    "2. University Hospital, Zurich, Switzerland: William Steinbrunn, M.D.\n",
    "3. University Hospital, Basel, Switzerland: Matthias Pfisterer, M.D.\n",
    "4. V.A. Medical Center, Long Beach and Cleveland Clinic Foundation  \n"
   ]
  },
  {
   "cell_type": "markdown",
   "id": "8661d93f-1c5a-4677-8e5e-29da13ca1217",
   "metadata": {},
   "source": [
    "### Load Data"
   ]
  },
  {
   "cell_type": "code",
   "execution_count": 6,
   "id": "c3f82d2f-f5b2-4203-b671-f05c680d7ee1",
   "metadata": {},
   "outputs": [
    {
     "data": {
      "text/plain": [
       "['hungarian.data',\n",
       " 'cleveland.data',\n",
       " 'processed.va.data',\n",
       " 'switzerland.data',\n",
       " 'processed.hungarian.data',\n",
       " 'reprocessed.hungarian.data',\n",
       " 'new.data',\n",
       " 'processed.cleveland.data',\n",
       " 'processed.switzerland.data',\n",
       " 'long-beach-va.data']"
      ]
     },
     "execution_count": 6,
     "metadata": {},
     "output_type": "execute_result"
    }
   ],
   "source": [
    "data_files = [f for f in os.listdir(DATA_DIR) if os.path.splitext(f)[-1] == DATA_EXT]\n",
    "data_files"
   ]
  },
  {
   "cell_type": "code",
   "execution_count": 7,
   "id": "cfa33a54-d149-4008-9249-f52a61d440da",
   "metadata": {},
   "outputs": [
    {
     "data": {
      "text/plain": [
       "['processed.va.data',\n",
       " 'processed.hungarian.data',\n",
       " 'processed.cleveland.data',\n",
       " 'processed.switzerland.data']"
      ]
     },
     "execution_count": 7,
     "metadata": {},
     "output_type": "execute_result"
    }
   ],
   "source": [
    "processed_files = [f for f in data_files if f.startswith('processed')]\n",
    "processed_files"
   ]
  },
  {
   "cell_type": "code",
   "execution_count": 8,
   "id": "2aa77406-af34-48ea-a790-2c21f17f0cd1",
   "metadata": {},
   "outputs": [
    {
     "data": {
      "text/plain": [
       "['long-beach-va.data',\n",
       " 'new.data',\n",
       " 'hungarian.data',\n",
       " 'cleveland.data',\n",
       " 'switzerland.data',\n",
       " 'reprocessed.hungarian.data']"
      ]
     },
     "execution_count": 8,
     "metadata": {},
     "output_type": "execute_result"
    }
   ],
   "source": [
    "raw_files = list(set(data_files) - set(processed_files))\n",
    "raw_files"
   ]
  },
  {
   "cell_type": "code",
   "execution_count": 9,
   "id": "244a66da-5fff-4ec1-af75-8615456c1f39",
   "metadata": {},
   "outputs": [],
   "source": [
    "dfs = []\n",
    "for f in processed_files:\n",
    "    fpath = os.path.join(DATA_DIR,f)\n",
    "    curr_df = pd.read_csv(fpath,\n",
    "                          names = FEATURES\n",
    "                         )\n",
    "    dfs.append(curr_df)"
   ]
  },
  {
   "cell_type": "code",
   "execution_count": 10,
   "id": "be02aeac-d66d-4622-9788-19d7a0b79c17",
   "metadata": {},
   "outputs": [],
   "source": [
    "df = pd.concat(dfs,axis=0)"
   ]
  },
  {
   "cell_type": "code",
   "execution_count": 11,
   "id": "54902ba7-a843-4a96-900b-464d12bace5f",
   "metadata": {},
   "outputs": [
    {
     "data": {
      "text/html": [
       "<div>\n",
       "<style scoped>\n",
       "    .dataframe tbody tr th:only-of-type {\n",
       "        vertical-align: middle;\n",
       "    }\n",
       "\n",
       "    .dataframe tbody tr th {\n",
       "        vertical-align: top;\n",
       "    }\n",
       "\n",
       "    .dataframe thead th {\n",
       "        text-align: right;\n",
       "    }\n",
       "</style>\n",
       "<table border=\"1\" class=\"dataframe\">\n",
       "  <thead>\n",
       "    <tr style=\"text-align: right;\">\n",
       "      <th></th>\n",
       "      <th>age</th>\n",
       "      <th>sex</th>\n",
       "      <th>chest_pain_type</th>\n",
       "      <th>resting_admission_bp</th>\n",
       "      <th>serum_cholesterol</th>\n",
       "      <th>fasting_blood_sugar</th>\n",
       "      <th>resting_ecg_results</th>\n",
       "      <th>max_heart_rate</th>\n",
       "      <th>exercise_induced_angina</th>\n",
       "      <th>oldpeak</th>\n",
       "      <th>slope_peak_st_segment</th>\n",
       "      <th>num_vessels_colored</th>\n",
       "      <th>thal</th>\n",
       "      <th>target</th>\n",
       "    </tr>\n",
       "  </thead>\n",
       "  <tbody>\n",
       "    <tr>\n",
       "      <th>0</th>\n",
       "      <td>63.0</td>\n",
       "      <td>1.0</td>\n",
       "      <td>4.0</td>\n",
       "      <td>140</td>\n",
       "      <td>260</td>\n",
       "      <td>0</td>\n",
       "      <td>1</td>\n",
       "      <td>112</td>\n",
       "      <td>1</td>\n",
       "      <td>3</td>\n",
       "      <td>2</td>\n",
       "      <td>?</td>\n",
       "      <td>?</td>\n",
       "      <td>2</td>\n",
       "    </tr>\n",
       "    <tr>\n",
       "      <th>1</th>\n",
       "      <td>44.0</td>\n",
       "      <td>1.0</td>\n",
       "      <td>4.0</td>\n",
       "      <td>130</td>\n",
       "      <td>209</td>\n",
       "      <td>0</td>\n",
       "      <td>1</td>\n",
       "      <td>127</td>\n",
       "      <td>0</td>\n",
       "      <td>0</td>\n",
       "      <td>?</td>\n",
       "      <td>?</td>\n",
       "      <td>?</td>\n",
       "      <td>0</td>\n",
       "    </tr>\n",
       "    <tr>\n",
       "      <th>2</th>\n",
       "      <td>60.0</td>\n",
       "      <td>1.0</td>\n",
       "      <td>4.0</td>\n",
       "      <td>132</td>\n",
       "      <td>218</td>\n",
       "      <td>0</td>\n",
       "      <td>1</td>\n",
       "      <td>140</td>\n",
       "      <td>1</td>\n",
       "      <td>1.5</td>\n",
       "      <td>3</td>\n",
       "      <td>?</td>\n",
       "      <td>?</td>\n",
       "      <td>2</td>\n",
       "    </tr>\n",
       "    <tr>\n",
       "      <th>3</th>\n",
       "      <td>55.0</td>\n",
       "      <td>1.0</td>\n",
       "      <td>4.0</td>\n",
       "      <td>142</td>\n",
       "      <td>228</td>\n",
       "      <td>0</td>\n",
       "      <td>1</td>\n",
       "      <td>149</td>\n",
       "      <td>1</td>\n",
       "      <td>2.5</td>\n",
       "      <td>1</td>\n",
       "      <td>?</td>\n",
       "      <td>?</td>\n",
       "      <td>1</td>\n",
       "    </tr>\n",
       "    <tr>\n",
       "      <th>4</th>\n",
       "      <td>66.0</td>\n",
       "      <td>1.0</td>\n",
       "      <td>3.0</td>\n",
       "      <td>110</td>\n",
       "      <td>213</td>\n",
       "      <td>1</td>\n",
       "      <td>2</td>\n",
       "      <td>99</td>\n",
       "      <td>1</td>\n",
       "      <td>1.3</td>\n",
       "      <td>2</td>\n",
       "      <td>?</td>\n",
       "      <td>?</td>\n",
       "      <td>0</td>\n",
       "    </tr>\n",
       "  </tbody>\n",
       "</table>\n",
       "</div>"
      ],
      "text/plain": [
       "    age  sex  chest_pain_type resting_admission_bp serum_cholesterol  \\\n",
       "0  63.0  1.0              4.0                  140               260   \n",
       "1  44.0  1.0              4.0                  130               209   \n",
       "2  60.0  1.0              4.0                  132               218   \n",
       "3  55.0  1.0              4.0                  142               228   \n",
       "4  66.0  1.0              3.0                  110               213   \n",
       "\n",
       "  fasting_blood_sugar resting_ecg_results max_heart_rate  \\\n",
       "0                   0                   1            112   \n",
       "1                   0                   1            127   \n",
       "2                   0                   1            140   \n",
       "3                   0                   1            149   \n",
       "4                   1                   2             99   \n",
       "\n",
       "  exercise_induced_angina oldpeak slope_peak_st_segment num_vessels_colored  \\\n",
       "0                       1       3                     2                   ?   \n",
       "1                       0       0                     ?                   ?   \n",
       "2                       1     1.5                     3                   ?   \n",
       "3                       1     2.5                     1                   ?   \n",
       "4                       1     1.3                     2                   ?   \n",
       "\n",
       "  thal  target  \n",
       "0    ?       2  \n",
       "1    ?       0  \n",
       "2    ?       2  \n",
       "3    ?       1  \n",
       "4    ?       0  "
      ]
     },
     "execution_count": 11,
     "metadata": {},
     "output_type": "execute_result"
    }
   ],
   "source": [
    "df.head()"
   ]
  },
  {
   "cell_type": "markdown",
   "id": "475fda39-ff84-449d-a75b-067a00096670",
   "metadata": {},
   "source": [
    "## Create Target Variable Field\n",
    "We shall treat 0 as absent and 1,2,3 as present for the heart disease"
   ]
  },
  {
   "cell_type": "code",
   "execution_count": 12,
   "id": "cc233b57-0587-406c-b201-3db2a8c50f81",
   "metadata": {},
   "outputs": [
    {
     "data": {
      "image/png": "[encoded data removed]",
      "text/plain": [
       "<Figure size 640x480 with 1 Axes>"
      ]
     },
     "metadata": {},
     "output_type": "display_data"
    }
   ],
   "source": [
    "df[TARGET_COLUMN].value_counts().plot(kind = \"bar\", \n",
    "                                      title = \"Target Variable Distribution\")\n",
    "plt.show()"
   ]
  },
  {
   "cell_type": "code",
   "execution_count": 13,
   "id": "37f95565-5200-4a88-be7e-481bbbeeb0a0",
   "metadata": {},
   "outputs": [],
   "source": [
    "def is_heart_patient(value):\n",
    "    return value > 0"
   ]
  },
  {
   "cell_type": "code",
   "execution_count": 14,
   "id": "3392a828-4ace-468b-a078-379a1c894cce",
   "metadata": {},
   "outputs": [
    {
     "data": {
      "text/plain": [
       "0       True\n",
       "1      False\n",
       "2       True\n",
       "3       True\n",
       "4      False\n",
       "       ...  \n",
       "118     True\n",
       "119     True\n",
       "120    False\n",
       "121     True\n",
       "122     True\n",
       "Name: target, Length: 920, dtype: bool"
      ]
     },
     "execution_count": 14,
     "metadata": {},
     "output_type": "execute_result"
    }
   ],
   "source": [
    "df[TARGET_COLUMN].apply(is_heart_patient)"
   ]
  },
  {
   "cell_type": "code",
   "execution_count": 15,
   "id": "1b0da491-c29b-456a-9774-d24ba0825271",
   "metadata": {},
   "outputs": [
    {
     "data": {
      "text/plain": [
       "0    2\n",
       "1    0\n",
       "2    2\n",
       "3    1\n",
       "4    0\n",
       "Name: target, dtype: int64"
      ]
     },
     "execution_count": 15,
     "metadata": {},
     "output_type": "execute_result"
    }
   ],
   "source": [
    "df[TARGET_COLUMN].head()"
   ]
  },
  {
   "cell_type": "code",
   "execution_count": 16,
   "id": "f006aa3b-2c1e-427e-a330-4f8d1a6b925e",
   "metadata": {},
   "outputs": [],
   "source": [
    "df[TARGET_COLUMN] = df[TARGET_COLUMN].apply(is_heart_patient).astype(int)"
   ]
  },
  {
   "cell_type": "code",
   "execution_count": 17,
   "id": "46bfa0c1-c7e5-45e6-804b-bb5c5396a071",
   "metadata": {},
   "outputs": [
    {
     "data": {
      "image/png": "[encoded data removed]",
      "text/plain": [
       "<Figure size 640x480 with 1 Axes>"
      ]
     },
     "metadata": {},
     "output_type": "display_data"
    }
   ],
   "source": [
    "df[TARGET_COLUMN].value_counts().plot(kind = \"bar\", \n",
    "                                      rot = 45,\n",
    "                                      title = \"Target Variable Distribution\")\n",
    "plt.show()"
   ]
  },
  {
   "cell_type": "markdown",
   "id": "3a8a655c-043e-4c7f-8dc4-1814ad2405c2",
   "metadata": {},
   "source": [
    "## Data Cleaning"
   ]
  },
  {
   "cell_type": "markdown",
   "id": "6c5a7a42-3ac4-4944-afd2-ca175f5bc096",
   "metadata": {},
   "source": [
    "### NA Values & Fixing Column Datatype"
   ]
  },
  {
   "cell_type": "code",
   "execution_count": 18,
   "id": "75feb047-28fe-4423-9769-5751df0cc45b",
   "metadata": {},
   "outputs": [],
   "source": [
    "df = df.replace(\"?\", np.nan)"
   ]
  },
  {
   "cell_type": "markdown",
   "id": "ef124037-25fe-4ca1-9068-01753febf208",
   "metadata": {},
   "source": [
    "Fix column dtype"
   ]
  },
  {
   "cell_type": "code",
   "execution_count": 19,
   "id": "25924b10-17e0-45b6-958b-d9f10c04a0b0",
   "metadata": {},
   "outputs": [],
   "source": [
    "for col in df.columns:\n",
    "    if df[col].dtype == object and col != \"source\":\n",
    "        df[col] = pd.to_numeric(df[col])"
   ]
  },
  {
   "cell_type": "code",
   "execution_count": 20,
   "id": "c9e418e7-83ff-441c-81d8-b5091b3598eb",
   "metadata": {},
   "outputs": [
    {
     "name": "stdout",
     "output_type": "stream",
     "text": [
      "<class 'pandas.core.frame.DataFrame'>\n",
      "Index: 920 entries, 0 to 122\n",
      "Data columns (total 14 columns):\n",
      " #   Column                   Non-Null Count  Dtype  \n",
      "---  ------                   --------------  -----  \n",
      " 0   age                      920 non-null    float64\n",
      " 1   sex                      920 non-null    float64\n",
      " 2   chest_pain_type          920 non-null    float64\n",
      " 3   resting_admission_bp     861 non-null    float64\n",
      " 4   serum_cholesterol        890 non-null    float64\n",
      " 5   fasting_blood_sugar      830 non-null    float64\n",
      " 6   resting_ecg_results      918 non-null    float64\n",
      " 7   max_heart_rate           865 non-null    float64\n",
      " 8   exercise_induced_angina  865 non-null    float64\n",
      " 9   oldpeak                  858 non-null    float64\n",
      " 10  slope_peak_st_segment    611 non-null    float64\n",
      " 11  num_vessels_colored      309 non-null    float64\n",
      " 12  thal                     434 non-null    float64\n",
      " 13  target                   920 non-null    int64  \n",
      "dtypes: float64(13), int64(1)\n",
      "memory usage: 107.8 KB\n"
     ]
    }
   ],
   "source": [
    "df.info()"
   ]
  },
  {
   "cell_type": "code",
   "execution_count": 21,
   "id": "6f634ee4-0fa7-4a80-b180-4babc1bef8a8",
   "metadata": {},
   "outputs": [
    {
     "data": {
      "text/plain": [
       "num_vessels_colored        66.413043\n",
       "thal                       52.826087\n",
       "slope_peak_st_segment      33.586957\n",
       "fasting_blood_sugar         9.782609\n",
       "oldpeak                     6.739130\n",
       "resting_admission_bp        6.413043\n",
       "max_heart_rate              5.978261\n",
       "exercise_induced_angina     5.978261\n",
       "serum_cholesterol           3.260870\n",
       "resting_ecg_results         0.217391\n",
       "age                         0.000000\n",
       "sex                         0.000000\n",
       "chest_pain_type             0.000000\n",
       "target                      0.000000\n",
       "dtype: float64"
      ]
     },
     "execution_count": 21,
     "metadata": {},
     "output_type": "execute_result"
    }
   ],
   "source": [
    "null_pcts = (100 * (df.isnull().sum() / df.shape[0])).sort_values(ascending=False)\n",
    "null_pcts"
   ]
  },
  {
   "cell_type": "code",
   "execution_count": 22,
   "id": "783ba7c4-4377-4510-928d-02df0035b344",
   "metadata": {},
   "outputs": [],
   "source": [
    "null_cols = null_pcts[null_pcts>0]"
   ]
  },
  {
   "cell_type": "code",
   "execution_count": 23,
   "id": "ecc1d8e7-d9c3-4b3c-9bd7-3e5ed9c332bd",
   "metadata": {},
   "outputs": [
    {
     "data": {
      "image/png": "[encoded data removed]",
      "text/plain": [
       "<Figure size 640x480 with 1 Axes>"
      ]
     },
     "metadata": {},
     "output_type": "display_data"
    }
   ],
   "source": [
    "null_cols.plot(kind=\"bar\",\n",
    "                             title = \"% Of Null For Each Column\",\n",
    "                             color = \"red\")\n",
    "plt.show()"
   ]
  },
  {
   "cell_type": "markdown",
   "id": "4bdc82a2-9ba7-468d-a7b8-57516303197f",
   "metadata": {},
   "source": [
    "### Duplicated Rows"
   ]
  },
  {
   "cell_type": "code",
   "execution_count": 24,
   "id": "3c06cde0-1db3-4e97-a1dc-8bd607e5f155",
   "metadata": {},
   "outputs": [
    {
     "data": {
      "text/html": [
       "<div>\n",
       "<style scoped>\n",
       "    .dataframe tbody tr th:only-of-type {\n",
       "        vertical-align: middle;\n",
       "    }\n",
       "\n",
       "    .dataframe tbody tr th {\n",
       "        vertical-align: top;\n",
       "    }\n",
       "\n",
       "    .dataframe thead th {\n",
       "        text-align: right;\n",
       "    }\n",
       "</style>\n",
       "<table border=\"1\" class=\"dataframe\">\n",
       "  <thead>\n",
       "    <tr style=\"text-align: right;\">\n",
       "      <th></th>\n",
       "      <th>age</th>\n",
       "      <th>sex</th>\n",
       "      <th>chest_pain_type</th>\n",
       "      <th>resting_admission_bp</th>\n",
       "      <th>serum_cholesterol</th>\n",
       "      <th>fasting_blood_sugar</th>\n",
       "      <th>resting_ecg_results</th>\n",
       "      <th>max_heart_rate</th>\n",
       "      <th>exercise_induced_angina</th>\n",
       "      <th>oldpeak</th>\n",
       "      <th>slope_peak_st_segment</th>\n",
       "      <th>num_vessels_colored</th>\n",
       "      <th>thal</th>\n",
       "      <th>target</th>\n",
       "    </tr>\n",
       "  </thead>\n",
       "  <tbody>\n",
       "    <tr>\n",
       "      <th>139</th>\n",
       "      <td>58.0</td>\n",
       "      <td>1.0</td>\n",
       "      <td>3.0</td>\n",
       "      <td>150.0</td>\n",
       "      <td>219.0</td>\n",
       "      <td>0.0</td>\n",
       "      <td>1.0</td>\n",
       "      <td>118.0</td>\n",
       "      <td>1.0</td>\n",
       "      <td>0.0</td>\n",
       "      <td>NaN</td>\n",
       "      <td>NaN</td>\n",
       "      <td>NaN</td>\n",
       "      <td>1</td>\n",
       "    </tr>\n",
       "    <tr>\n",
       "      <th>187</th>\n",
       "      <td>58.0</td>\n",
       "      <td>1.0</td>\n",
       "      <td>3.0</td>\n",
       "      <td>150.0</td>\n",
       "      <td>219.0</td>\n",
       "      <td>0.0</td>\n",
       "      <td>1.0</td>\n",
       "      <td>118.0</td>\n",
       "      <td>1.0</td>\n",
       "      <td>0.0</td>\n",
       "      <td>NaN</td>\n",
       "      <td>NaN</td>\n",
       "      <td>NaN</td>\n",
       "      <td>1</td>\n",
       "    </tr>\n",
       "    <tr>\n",
       "      <th>101</th>\n",
       "      <td>49.0</td>\n",
       "      <td>0.0</td>\n",
       "      <td>2.0</td>\n",
       "      <td>110.0</td>\n",
       "      <td>NaN</td>\n",
       "      <td>0.0</td>\n",
       "      <td>0.0</td>\n",
       "      <td>160.0</td>\n",
       "      <td>0.0</td>\n",
       "      <td>0.0</td>\n",
       "      <td>NaN</td>\n",
       "      <td>NaN</td>\n",
       "      <td>NaN</td>\n",
       "      <td>0</td>\n",
       "    </tr>\n",
       "    <tr>\n",
       "      <th>102</th>\n",
       "      <td>49.0</td>\n",
       "      <td>0.0</td>\n",
       "      <td>2.0</td>\n",
       "      <td>110.0</td>\n",
       "      <td>NaN</td>\n",
       "      <td>0.0</td>\n",
       "      <td>0.0</td>\n",
       "      <td>160.0</td>\n",
       "      <td>0.0</td>\n",
       "      <td>0.0</td>\n",
       "      <td>NaN</td>\n",
       "      <td>NaN</td>\n",
       "      <td>NaN</td>\n",
       "      <td>0</td>\n",
       "    </tr>\n",
       "  </tbody>\n",
       "</table>\n",
       "</div>"
      ],
      "text/plain": [
       "      age  sex  chest_pain_type  resting_admission_bp  serum_cholesterol  \\\n",
       "139  58.0  1.0              3.0                 150.0              219.0   \n",
       "187  58.0  1.0              3.0                 150.0              219.0   \n",
       "101  49.0  0.0              2.0                 110.0                NaN   \n",
       "102  49.0  0.0              2.0                 110.0                NaN   \n",
       "\n",
       "     fasting_blood_sugar  resting_ecg_results  max_heart_rate  \\\n",
       "139                  0.0                  1.0           118.0   \n",
       "187                  0.0                  1.0           118.0   \n",
       "101                  0.0                  0.0           160.0   \n",
       "102                  0.0                  0.0           160.0   \n",
       "\n",
       "     exercise_induced_angina  oldpeak  slope_peak_st_segment  \\\n",
       "139                      1.0      0.0                    NaN   \n",
       "187                      1.0      0.0                    NaN   \n",
       "101                      0.0      0.0                    NaN   \n",
       "102                      0.0      0.0                    NaN   \n",
       "\n",
       "     num_vessels_colored  thal  target  \n",
       "139                  NaN   NaN       1  \n",
       "187                  NaN   NaN       1  \n",
       "101                  NaN   NaN       0  \n",
       "102                  NaN   NaN       0  "
      ]
     },
     "execution_count": 24,
     "metadata": {},
     "output_type": "execute_result"
    }
   ],
   "source": [
    "df[df.duplicated(keep=False)]"
   ]
  },
  {
   "cell_type": "code",
   "execution_count": 25,
   "id": "cef820bc-6c03-4ee3-b824-74a32bd31204",
   "metadata": {},
   "outputs": [],
   "source": [
    "df = df.drop_duplicates().reset_index(drop=True)"
   ]
  },
  {
   "cell_type": "code",
   "execution_count": 26,
   "id": "bd9be763-43e6-4d5a-a63d-7df8a7ea5f99",
   "metadata": {},
   "outputs": [
    {
     "data": {
      "text/html": [
       "<div>\n",
       "<style scoped>\n",
       "    .dataframe tbody tr th:only-of-type {\n",
       "        vertical-align: middle;\n",
       "    }\n",
       "\n",
       "    .dataframe tbody tr th {\n",
       "        vertical-align: top;\n",
       "    }\n",
       "\n",
       "    .dataframe thead th {\n",
       "        text-align: right;\n",
       "    }\n",
       "</style>\n",
       "<table border=\"1\" class=\"dataframe\">\n",
       "  <thead>\n",
       "    <tr style=\"text-align: right;\">\n",
       "      <th></th>\n",
       "      <th>age</th>\n",
       "      <th>sex</th>\n",
       "      <th>chest_pain_type</th>\n",
       "      <th>resting_admission_bp</th>\n",
       "      <th>serum_cholesterol</th>\n",
       "      <th>fasting_blood_sugar</th>\n",
       "      <th>resting_ecg_results</th>\n",
       "      <th>max_heart_rate</th>\n",
       "      <th>exercise_induced_angina</th>\n",
       "      <th>oldpeak</th>\n",
       "      <th>slope_peak_st_segment</th>\n",
       "      <th>num_vessels_colored</th>\n",
       "      <th>thal</th>\n",
       "      <th>target</th>\n",
       "    </tr>\n",
       "  </thead>\n",
       "  <tbody>\n",
       "  </tbody>\n",
       "</table>\n",
       "</div>"
      ],
      "text/plain": [
       "Empty DataFrame\n",
       "Columns: [age, sex, chest_pain_type, resting_admission_bp, serum_cholesterol, fasting_blood_sugar, resting_ecg_results, max_heart_rate, exercise_induced_angina, oldpeak, slope_peak_st_segment, num_vessels_colored, thal, target]\n",
       "Index: []"
      ]
     },
     "execution_count": 26,
     "metadata": {},
     "output_type": "execute_result"
    }
   ],
   "source": [
    "df[df.duplicated(keep=False)]"
   ]
  },
  {
   "cell_type": "markdown",
   "id": "671faa5a-3534-4695-a421-c58de625dbb0",
   "metadata": {},
   "source": [
    "## EDA"
   ]
  },
  {
   "cell_type": "markdown",
   "id": "9a16b9a0-4c99-44cd-9dc6-a2ebecb59e04",
   "metadata": {},
   "source": [
    "#### Correlation Analysis "
   ]
  },
  {
   "cell_type": "code",
   "execution_count": 27,
   "id": "a901a48b-b5b3-407e-a716-9a91b3b6ec08",
   "metadata": {},
   "outputs": [
    {
     "data": {
      "text/plain": [
       "max_heart_rate            -0.393371\n",
       "serum_cholesterol         -0.230869\n",
       "resting_ecg_results        0.062574\n",
       "resting_admission_bp       0.104018\n",
       "fasting_blood_sugar        0.142725\n",
       "age                        0.282039\n",
       "sex                        0.305445\n",
       "slope_peak_st_segment      0.337086\n",
       "oldpeak                    0.386106\n",
       "num_vessels_colored        0.455599\n",
       "exercise_induced_angina    0.462422\n",
       "chest_pain_type            0.471354\n",
       "thal                       0.498521\n",
       "target                     1.000000\n",
       "Name: target, dtype: float64"
      ]
     },
     "execution_count": 27,
     "metadata": {},
     "output_type": "execute_result"
    }
   ],
   "source": [
    "df.corr()[TARGET_COLUMN].sort_values()"
   ]
  },
  {
   "cell_type": "code",
   "execution_count": 28,
   "id": "c3e48801-d551-4021-8b31-a4a9eb302e13",
   "metadata": {},
   "outputs": [
    {
     "data": {
      "text/plain": [
       "num_vessels_colored      66.413043\n",
       "thal                     52.826087\n",
       "slope_peak_st_segment    33.586957\n",
       "dtype: float64"
      ]
     },
     "execution_count": 28,
     "metadata": {},
     "output_type": "execute_result"
    }
   ],
   "source": [
    "null_pcts[:3]"
   ]
  },
  {
   "cell_type": "markdown",
   "id": "747aeb72-8fc2-48ec-ae76-29675f2485ef",
   "metadata": {},
   "source": [
    "#### Inspecting Impact of fields with highest NA Values On Target"
   ]
  },
  {
   "cell_type": "code",
   "execution_count": 29,
   "id": "055d93c2-6f4a-496a-aacc-c0ae236bddc5",
   "metadata": {},
   "outputs": [
    {
     "data": {
      "text/plain": [
       "target\n",
       "1    508\n",
       "0    410\n",
       "Name: count, dtype: int64"
      ]
     },
     "execution_count": 29,
     "metadata": {},
     "output_type": "execute_result"
    }
   ],
   "source": [
    "df[TARGET_COLUMN].value_counts()"
   ]
  },
  {
   "cell_type": "markdown",
   "id": "75700e87-fa6d-4252-864f-30c0e63d333d",
   "metadata": {},
   "source": [
    "#### Chi-Squared test"
   ]
  },
  {
   "cell_type": "code",
   "execution_count": 30,
   "id": "c9023323-5c55-4c01-b68f-f84d33c1cdcb",
   "metadata": {},
   "outputs": [],
   "source": [
    "def chisq_test(feature,\n",
    "               target):\n",
    "    contingency_table = pd.crosstab(df[feature],\n",
    "                                    df[target])\n",
    "    chi2, p_val, dof, expected = chi2_contingency(contingency_table)\n",
    "    print(\"Chi-squared statistic:\", chi2)\n",
    "    '''\n",
    "    This value, if lesser than 0.05 , then we reject the NULL HYPOTHESIS i.e\n",
    "    there is no relatoin between the number of vessels and the target \n",
    "    '''\n",
    "    print(\"p-value:\", p_val)\n",
    "    \n",
    "    # How many values can the categorical variable assume?\n",
    "    print(\"Degrees of freedom:\", dof)\n",
    "    \n",
    "    # What would the frequencies look like if there was no relationship? \n",
    "    print(\"Expected frequencies table:\")\n",
    "    print(expected)"
   ]
  },
  {
   "cell_type": "code",
   "execution_count": 31,
   "id": "70f9dd4d-11f6-4843-afa4-a30c14464b15",
   "metadata": {},
   "outputs": [
    {
     "name": "stdout",
     "output_type": "stream",
     "text": [
      "Chi-squared statistic: 73.20029491660873\n",
      "p-value: 8.805830188183042e-16\n",
      "Degrees of freedom: 3\n",
      "Expected frequencies table:\n",
      "[[96.65048544 84.34951456]\n",
      " [35.77669903 31.22330097]\n",
      " [21.89320388 19.10679612]\n",
      " [10.67961165  9.32038835]]\n"
     ]
    }
   ],
   "source": [
    "chisq_test(\"num_vessels_colored\",\n",
    "           TARGET_COLUMN)"
   ]
  },
  {
   "cell_type": "code",
   "execution_count": 32,
   "id": "5000f6ff-d68f-4b7e-91f4-82f568cbf68d",
   "metadata": {},
   "outputs": [
    {
     "name": "stdout",
     "output_type": "stream",
     "text": [
      "Chi-squared statistic: 109.04739780567616\n",
      "p-value: 2.092466113570906e-24\n",
      "Degrees of freedom: 2\n",
      "Expected frequencies table:\n",
      "[[ 84.4516129 111.5483871]\n",
      " [ 19.8202765  26.1797235]\n",
      " [ 82.7281106 109.2718894]]\n"
     ]
    }
   ],
   "source": [
    "chisq_test(\"thal\",\n",
    "           TARGET_COLUMN)"
   ]
  },
  {
   "cell_type": "markdown",
   "id": "fa90e3f6-2aeb-42c2-aab3-8c956001383d",
   "metadata": {},
   "source": [
    "### Handling NaN Values\n",
    "\n",
    "\n",
    "We shall keep the original df and for the copy of it, we shall impute the NaNs."
   ]
  },
  {
   "cell_type": "code",
   "execution_count": 33,
   "id": "078c5dfa-6c18-4dd6-8e91-2c66153ec937",
   "metadata": {},
   "outputs": [],
   "source": [
    "new_df = df.copy()"
   ]
  },
  {
   "cell_type": "markdown",
   "id": "22876b4c-7d43-45ba-88fe-3696005a7e5c",
   "metadata": {},
   "source": [
    "#### Fill NaNs \n",
    "\n",
    "To Do - Try other imputation techniques"
   ]
  },
  {
   "cell_type": "code",
   "execution_count": 34,
   "id": "e7adaa30-2871-41a7-a4d3-ef0c7b74dcb9",
   "metadata": {},
   "outputs": [],
   "source": [
    "for column in df.columns:\n",
    "    if column in null_cols.index:\n",
    "        if column in continuous_cols:\n",
    "            filler = new_df[column].median()\n",
    "        elif column in discrete_cols:\n",
    "            filler = new_df[column].mode().iloc[0]\n",
    "        new_df[column]= new_df[column].fillna(filler)\n",
    "    else:\n",
    "        continue"
   ]
  },
  {
   "cell_type": "code",
   "execution_count": 35,
   "id": "31ac731d-62e5-44b1-9ceb-0dea64d76e60",
   "metadata": {},
   "outputs": [
    {
     "data": {
      "text/plain": [
       "Index(['num_vessels_colored', 'thal', 'slope_peak_st_segment',\n",
       "       'fasting_blood_sugar', 'oldpeak', 'resting_admission_bp',\n",
       "       'max_heart_rate', 'exercise_induced_angina', 'serum_cholesterol',\n",
       "       'resting_ecg_results'],\n",
       "      dtype='object')"
      ]
     },
     "execution_count": 35,
     "metadata": {},
     "output_type": "execute_result"
    }
   ],
   "source": [
    "null_cols.index"
   ]
  },
  {
   "cell_type": "markdown",
   "id": "e27add61-20a2-4429-b46e-ad12e6d9f897",
   "metadata": {},
   "source": [
    "#### Sanity Check"
   ]
  },
  {
   "cell_type": "code",
   "execution_count": 36,
   "id": "68e34d58-dd1a-4ee4-b504-bb995ff95d64",
   "metadata": {},
   "outputs": [
    {
     "data": {
      "text/plain": [
       "age                        0\n",
       "sex                        0\n",
       "chest_pain_type            0\n",
       "resting_admission_bp       0\n",
       "serum_cholesterol          0\n",
       "fasting_blood_sugar        0\n",
       "resting_ecg_results        0\n",
       "max_heart_rate             0\n",
       "exercise_induced_angina    0\n",
       "oldpeak                    0\n",
       "slope_peak_st_segment      0\n",
       "num_vessels_colored        0\n",
       "thal                       0\n",
       "target                     0\n",
       "dtype: int64"
      ]
     },
     "execution_count": 36,
     "metadata": {},
     "output_type": "execute_result"
    }
   ],
   "source": [
    "new_df.isna().sum()"
   ]
  },
  {
   "cell_type": "markdown",
   "id": "ce8f8bdd-774b-47d7-afb8-b9c7af454d21",
   "metadata": {},
   "source": [
    "#### Check Change In Distirbution"
   ]
  },
  {
   "cell_type": "code",
   "execution_count": 37,
   "id": "20ff82d6-3b91-44ab-aee3-ab24f10bdec9",
   "metadata": {},
   "outputs": [
    {
     "data": {
      "image/png": "[encoded data removed]",
      "text/plain": [
       "<Figure size 1000x2400 with 8 Axes>"
      ]
     },
     "metadata": {},
     "output_type": "display_data"
    },
    {
     "data": {
      "text/plain": [
       "<Figure size 640x480 with 0 Axes>"
      ]
     },
     "metadata": {},
     "output_type": "display_data"
    }
   ],
   "source": [
    "columns = random.sample(continuous_cols,2) + random.sample(discrete_cols,2)  \n",
    "\n",
    "rows = len(columns)\n",
    "cols = 2\n",
    "\n",
    "fig, axs = plt.subplots(rows, cols, figsize=(10, 6*len(columns)))\n",
    "\n",
    "ptr = 0 \n",
    "for idx, col in enumerate(columns):\n",
    "    sns.histplot(data=df, x=col, color=\"skyblue\",  kde=True, ax=axs[idx, 0 ])\n",
    "    sns.histplot(data=new_df, x=col, color=\"red\",  kde=True, ax=axs[idx, 1])\n",
    "    axs[idx, 0 ].set_title(\"{} - Before Imputation\".format(col))\n",
    "    axs[idx, 1].set_title(\"{} - After Imputation\".format(col))\n",
    "plt.show()\n",
    "plt.tight_layout()"
   ]
  },
  {
   "cell_type": "markdown",
   "id": "f10de20b-dc03-4284-8d24-653301be1a51",
   "metadata": {},
   "source": [
    "### Splitting Data"
   ]
  },
  {
   "cell_type": "code",
   "execution_count": 38,
   "id": "cf1014af-0907-4142-90b0-9f67b383c8b7",
   "metadata": {},
   "outputs": [
    {
     "data": {
      "text/plain": [
       "((918, 13), (918,))"
      ]
     },
     "execution_count": 38,
     "metadata": {},
     "output_type": "execute_result"
    }
   ],
   "source": [
    "# Orignal Data \n",
    "X , y = new_df.loc[:, new_df.columns != TARGET_COLUMN],  new_df[TARGET_COLUMN]\n",
    "(X.shape, y.shape) "
   ]
  },
  {
   "cell_type": "code",
   "execution_count": 39,
   "id": "7dbe724e-6d0c-40f9-98e2-18d283dfe2b5",
   "metadata": {},
   "outputs": [
    {
     "data": {
      "text/plain": [
       "(0, 0)"
      ]
     },
     "execution_count": 39,
     "metadata": {},
     "output_type": "execute_result"
    }
   ],
   "source": [
    "X.isnull().sum().sum() , y.isnull().sum().sum()"
   ]
  },
  {
   "cell_type": "markdown",
   "id": "56f8abf9-0cc4-4c2f-8934-c72abf31cb2e",
   "metadata": {},
   "source": [
    "#### Split The Data"
   ]
  },
  {
   "cell_type": "code",
   "execution_count": 40,
   "id": "cf63b841-e7bd-473b-877b-a8ac48cae9e5",
   "metadata": {},
   "outputs": [],
   "source": [
    "X_train, X_test, y_train, y_test= train_test_split(X, \n",
    "                                                   y,\n",
    "                                                   test_size=0.20,  \n",
    "                                                   random_state = RANDOM_STATE)"
   ]
  },
  {
   "cell_type": "code",
   "execution_count": 41,
   "id": "36c82547-bc34-445f-af78-80503a3b4e86",
   "metadata": {},
   "outputs": [
    {
     "data": {
      "text/plain": [
       "((734, 13), (734,), (184, 13), (184,))"
      ]
     },
     "execution_count": 41,
     "metadata": {},
     "output_type": "execute_result"
    }
   ],
   "source": [
    "X_train.shape, y_train.shape, X_test.shape,y_test.shape"
   ]
  },
  {
   "cell_type": "markdown",
   "id": "300b11c8-ac6c-4ec8-9603-ec994e468ed2",
   "metadata": {},
   "source": [
    "### Case 1: Decision Tree, Without any Feature Engineering"
   ]
  },
  {
   "cell_type": "code",
   "execution_count": 42,
   "id": "40375570-c70c-4bc5-8939-8241c9d75561",
   "metadata": {},
   "outputs": [],
   "source": [
    "org_clf = DecisionTreeClassifier(random_state=RANDOM_STATE)"
   ]
  },
  {
   "cell_type": "code",
   "execution_count": 43,
   "id": "e02894af-8744-4b37-bd32-b0f23fdcd7f0",
   "metadata": {},
   "outputs": [
    {
     "data": {
      "text/html": [
       "<style>#sk-container-id-1 {color: black;}#sk-container-id-1 pre{padding: 0;}#sk-container-id-1 div.sk-toggleable {background-color: white;}#sk-container-id-1 label.sk-toggleable__label {cursor: pointer;display: block;width: 100%;margin-bottom: 0;padding: 0.3em;box-sizing: border-box;text-align: center;}#sk-container-id-1 label.sk-toggleable__label-arrow:before {content: \"▸\";float: left;margin-right: 0.25em;color: #696969;}#sk-container-id-1 label.sk-toggleable__label-arrow:hover:before {color: black;}#sk-container-id-1 div.sk-estimator:hover label.sk-toggleable__label-arrow:before {color: black;}#sk-container-id-1 div.sk-toggleable__content {max-height: 0;max-width: 0;overflow: hidden;text-align: left;background-color: #f0f8ff;}#sk-container-id-1 div.sk-toggleable__content pre {margin: 0.2em;color: black;border-radius: 0.25em;background-color: #f0f8ff;}#sk-container-id-1 input.sk-toggleable__control:checked~div.sk-toggleable__content {max-height: 200px;max-width: 100%;overflow: auto;}#sk-container-id-1 input.sk-toggleable__control:checked~label.sk-toggleable__label-arrow:before {content: \"▾\";}#sk-container-id-1 div.sk-estimator input.sk-toggleable__control:checked~label.sk-toggleable__label {background-color: #d4ebff;}#sk-container-id-1 div.sk-label input.sk-toggleable__control:checked~label.sk-toggleable__label {background-color: #d4ebff;}#sk-container-id-1 input.sk-hidden--visually {border: 0;clip: rect(1px 1px 1px 1px);clip: rect(1px, 1px, 1px, 1px);height: 1px;margin: -1px;overflow: hidden;padding: 0;position: absolute;width: 1px;}#sk-container-id-1 div.sk-estimator {font-family: monospace;background-color: #f0f8ff;border: 1px dotted black;border-radius: 0.25em;box-sizing: border-box;margin-bottom: 0.5em;}#sk-container-id-1 div.sk-estimator:hover {background-color: #d4ebff;}#sk-container-id-1 div.sk-parallel-item::after {content: \"\";width: 100%;border-bottom: 1px solid gray;flex-grow: 1;}#sk-container-id-1 div.sk-label:hover label.sk-toggleable__label {background-color: #d4ebff;}#sk-container-id-1 div.sk-serial::before {content: \"\";position: absolute;border-left: 1px solid gray;box-sizing: border-box;top: 0;bottom: 0;left: 50%;z-index: 0;}#sk-container-id-1 div.sk-serial {display: flex;flex-direction: column;align-items: center;background-color: white;padding-right: 0.2em;padding-left: 0.2em;position: relative;}#sk-container-id-1 div.sk-item {position: relative;z-index: 1;}#sk-container-id-1 div.sk-parallel {display: flex;align-items: stretch;justify-content: center;background-color: white;position: relative;}#sk-container-id-1 div.sk-item::before, #sk-container-id-1 div.sk-parallel-item::before {content: \"\";position: absolute;border-left: 1px solid gray;box-sizing: border-box;top: 0;bottom: 0;left: 50%;z-index: -1;}#sk-container-id-1 div.sk-parallel-item {display: flex;flex-direction: column;z-index: 1;position: relative;background-color: white;}#sk-container-id-1 div.sk-parallel-item:first-child::after {align-self: flex-end;width: 50%;}#sk-container-id-1 div.sk-parallel-item:last-child::after {align-self: flex-start;width: 50%;}#sk-container-id-1 div.sk-parallel-item:only-child::after {width: 0;}#sk-container-id-1 div.sk-dashed-wrapped {border: 1px dashed gray;margin: 0 0.4em 0.5em 0.4em;box-sizing: border-box;padding-bottom: 0.4em;background-color: white;}#sk-container-id-1 div.sk-label label {font-family: monospace;font-weight: bold;display: inline-block;line-height: 1.2em;}#sk-container-id-1 div.sk-label-container {text-align: center;}#sk-container-id-1 div.sk-container {/* jupyter's `normalize.less` sets `[hidden] { display: none; }` but bootstrap.min.css set `[hidden] { display: none !important; }` so we also need the `!important` here to be able to override the default hidden behavior on the sphinx rendered scikit-learn.org. See: https://github.com/scikit-learn/scikit-learn/issues/21755 */display: inline-block !important;position: relative;}#sk-container-id-1 div.sk-text-repr-fallback {display: none;}</style><div id=\"sk-container-id-1\" class=\"sk-top-container\"><div class=\"sk-text-repr-fallback\"><pre>DecisionTreeClassifier(random_state=42)</pre><b>In a Jupyter environment, please rerun this cell to show the HTML representation or trust the notebook. <br />On GitHub, the HTML representation is unable to render, please try loading this page with nbviewer.org.</b></div><div class=\"sk-container\" hidden><div class=\"sk-item\"><div class=\"sk-estimator sk-toggleable\"><input class=\"sk-toggleable__control sk-hidden--visually\" id=\"sk-estimator-id-1\" type=\"checkbox\" checked><label for=\"sk-estimator-id-1\" class=\"sk-toggleable__label sk-toggleable__label-arrow\">DecisionTreeClassifier</label><div class=\"sk-toggleable__content\"><pre>DecisionTreeClassifier(random_state=42)</pre></div></div></div></div></div>"
      ],
      "text/plain": [
       "DecisionTreeClassifier(random_state=42)"
      ]
     },
     "execution_count": 43,
     "metadata": {},
     "output_type": "execute_result"
    }
   ],
   "source": [
    "org_clf.fit(X_train, y_train)"
   ]
  },
  {
   "cell_type": "code",
   "execution_count": 44,
   "id": "0c8affe2-9a71-43f0-9e6b-0f6abc74d75f",
   "metadata": {},
   "outputs": [
    {
     "data": {
      "text/plain": [
       "(17,\n",
       " 142,\n",
       " {'ccp_alpha': 0.0,\n",
       "  'class_weight': None,\n",
       "  'criterion': 'gini',\n",
       "  'max_depth': None,\n",
       "  'max_features': None,\n",
       "  'max_leaf_nodes': None,\n",
       "  'min_impurity_decrease': 0.0,\n",
       "  'min_samples_leaf': 1,\n",
       "  'min_samples_split': 2,\n",
       "  'min_weight_fraction_leaf': 0.0,\n",
       "  'random_state': 42,\n",
       "  'splitter': 'best'})"
      ]
     },
     "execution_count": 44,
     "metadata": {},
     "output_type": "execute_result"
    }
   ],
   "source": [
    "org_clf.get_depth(), org_clf.get_n_leaves(), org_clf.get_params()"
   ]
  },
  {
   "cell_type": "code",
   "execution_count": 45,
   "id": "6cc4db85-1483-48b4-a89a-b3694723ea0d",
   "metadata": {},
   "outputs": [
    {
     "data": {
      "text/plain": [
       "1.0"
      ]
     },
     "execution_count": 45,
     "metadata": {},
     "output_type": "execute_result"
    }
   ],
   "source": [
    "org_clf.score(X_train, y_train)"
   ]
  },
  {
   "cell_type": "code",
   "execution_count": 46,
   "id": "0846e158-43f2-4dd0-a36b-8a012769202b",
   "metadata": {},
   "outputs": [
    {
     "data": {
      "text/plain": [
       "0.7065217391304348"
      ]
     },
     "execution_count": 46,
     "metadata": {},
     "output_type": "execute_result"
    }
   ],
   "source": [
    "org_clf.score(X_test,y_test)"
   ]
  },
  {
   "cell_type": "code",
   "execution_count": 47,
   "id": "ddf43a4e-38db-42cb-b107-0ac99e466a26",
   "metadata": {},
   "outputs": [],
   "source": [
    "test_preds = org_clf.predict(X_test)"
   ]
  },
  {
   "cell_type": "code",
   "execution_count": 48,
   "id": "72f97d64-bfde-4e94-bd6c-c814310f546c",
   "metadata": {},
   "outputs": [],
   "source": [
    "cm = confusion_matrix(y_test, test_preds)"
   ]
  },
  {
   "cell_type": "code",
   "execution_count": 49,
   "id": "6b608dcd-2f20-41e0-8e6d-2e3de9102236",
   "metadata": {},
   "outputs": [
    {
     "data": {
      "text/plain": [
       "<Axes: >"
      ]
     },
     "execution_count": 49,
     "metadata": {},
     "output_type": "execute_result"
    },
    {
     "data": {
      "image/png": "[encoded data removed]",
      "text/plain": [
       "<Figure size 640x480 with 2 Axes>"
      ]
     },
     "metadata": {},
     "output_type": "display_data"
    }
   ],
   "source": [
    "sns.heatmap(cm, annot = True)"
   ]
  },
  {
   "cell_type": "code",
   "execution_count": 50,
   "id": "87ced32b-b7c8-4e34-b007-db4ec15a2260",
   "metadata": {},
   "outputs": [
    {
     "data": {
      "text/plain": [
       "0.7065217391304348"
      ]
     },
     "execution_count": 50,
     "metadata": {},
     "output_type": "execute_result"
    }
   ],
   "source": [
    "f1_score(y_test, test_preds)"
   ]
  },
  {
   "cell_type": "markdown",
   "id": "ea39ad6f-eaad-442b-9352-80671373a459",
   "metadata": {},
   "source": [
    "#### Check Feature Importance"
   ]
  },
  {
   "cell_type": "code",
   "execution_count": 51,
   "id": "e80b2b58-d05f-4dd6-9c0f-fa60ceb19fe6",
   "metadata": {},
   "outputs": [
    {
     "data": {
      "text/html": [
       "<div>\n",
       "<style scoped>\n",
       "    .dataframe tbody tr th:only-of-type {\n",
       "        vertical-align: middle;\n",
       "    }\n",
       "\n",
       "    .dataframe tbody tr th {\n",
       "        vertical-align: top;\n",
       "    }\n",
       "\n",
       "    .dataframe thead th {\n",
       "        text-align: right;\n",
       "    }\n",
       "</style>\n",
       "<table border=\"1\" class=\"dataframe\">\n",
       "  <thead>\n",
       "    <tr style=\"text-align: right;\">\n",
       "      <th></th>\n",
       "      <th>Feature</th>\n",
       "      <th>Importance</th>\n",
       "    </tr>\n",
       "  </thead>\n",
       "  <tbody>\n",
       "    <tr>\n",
       "      <th>0</th>\n",
       "      <td>age</td>\n",
       "      <td>0.130949</td>\n",
       "    </tr>\n",
       "    <tr>\n",
       "      <th>1</th>\n",
       "      <td>sex</td>\n",
       "      <td>0.038332</td>\n",
       "    </tr>\n",
       "    <tr>\n",
       "      <th>2</th>\n",
       "      <td>chest_pain_type</td>\n",
       "      <td>0.290009</td>\n",
       "    </tr>\n",
       "    <tr>\n",
       "      <th>3</th>\n",
       "      <td>resting_admission_bp</td>\n",
       "      <td>0.058933</td>\n",
       "    </tr>\n",
       "    <tr>\n",
       "      <th>4</th>\n",
       "      <td>serum_cholesterol</td>\n",
       "      <td>0.177759</td>\n",
       "    </tr>\n",
       "    <tr>\n",
       "      <th>5</th>\n",
       "      <td>fasting_blood_sugar</td>\n",
       "      <td>0.018664</td>\n",
       "    </tr>\n",
       "    <tr>\n",
       "      <th>6</th>\n",
       "      <td>resting_ecg_results</td>\n",
       "      <td>0.027850</td>\n",
       "    </tr>\n",
       "    <tr>\n",
       "      <th>7</th>\n",
       "      <td>max_heart_rate</td>\n",
       "      <td>0.080833</td>\n",
       "    </tr>\n",
       "    <tr>\n",
       "      <th>8</th>\n",
       "      <td>exercise_induced_angina</td>\n",
       "      <td>0.016698</td>\n",
       "    </tr>\n",
       "    <tr>\n",
       "      <th>9</th>\n",
       "      <td>oldpeak</td>\n",
       "      <td>0.068665</td>\n",
       "    </tr>\n",
       "    <tr>\n",
       "      <th>10</th>\n",
       "      <td>slope_peak_st_segment</td>\n",
       "      <td>0.030864</td>\n",
       "    </tr>\n",
       "    <tr>\n",
       "      <th>11</th>\n",
       "      <td>num_vessels_colored</td>\n",
       "      <td>0.019712</td>\n",
       "    </tr>\n",
       "    <tr>\n",
       "      <th>12</th>\n",
       "      <td>thal</td>\n",
       "      <td>0.040731</td>\n",
       "    </tr>\n",
       "  </tbody>\n",
       "</table>\n",
       "</div>"
      ],
      "text/plain": [
       "                    Feature  Importance\n",
       "0                       age    0.130949\n",
       "1                       sex    0.038332\n",
       "2           chest_pain_type    0.290009\n",
       "3      resting_admission_bp    0.058933\n",
       "4         serum_cholesterol    0.177759\n",
       "5       fasting_blood_sugar    0.018664\n",
       "6       resting_ecg_results    0.027850\n",
       "7            max_heart_rate    0.080833\n",
       "8   exercise_induced_angina    0.016698\n",
       "9                   oldpeak    0.068665\n",
       "10    slope_peak_st_segment    0.030864\n",
       "11      num_vessels_colored    0.019712\n",
       "12                     thal    0.040731"
      ]
     },
     "execution_count": 51,
     "metadata": {},
     "output_type": "execute_result"
    }
   ],
   "source": [
    "importance_df = pd.DataFrame({\n",
    "    'Feature': X_train.columns,\n",
    "    'Importance': org_clf.feature_importances_\n",
    "})\n",
    "\n",
    "importance_df.sort_values(\"Importance\",\n",
    "                          ascending=False)\n",
    "importance_df"
   ]
  },
  {
   "cell_type": "markdown",
   "id": "4b8822bc-6334-4a36-90bf-0f2c05eb0996",
   "metadata": {},
   "source": [
    "### Case 2: Random Forest, Without any Feature Engineering"
   ]
  },
  {
   "cell_type": "code",
   "execution_count": 52,
   "id": "8ac66217-304b-432d-aaa2-528abd59e0ff",
   "metadata": {},
   "outputs": [],
   "source": [
    "org_rf = RandomForestClassifier(n_estimators=25,\n",
    "                                random_state=RANDOM_STATE)\n"
   ]
  },
  {
   "cell_type": "code",
   "execution_count": 53,
   "id": "50364b5e-d07c-4098-b440-45b89e6000b2",
   "metadata": {},
   "outputs": [
    {
     "data": {
      "text/html": [
       "<style>#sk-container-id-2 {color: black;}#sk-container-id-2 pre{padding: 0;}#sk-container-id-2 div.sk-toggleable {background-color: white;}#sk-container-id-2 label.sk-toggleable__label {cursor: pointer;display: block;width: 100%;margin-bottom: 0;padding: 0.3em;box-sizing: border-box;text-align: center;}#sk-container-id-2 label.sk-toggleable__label-arrow:before {content: \"▸\";float: left;margin-right: 0.25em;color: #696969;}#sk-container-id-2 label.sk-toggleable__label-arrow:hover:before {color: black;}#sk-container-id-2 div.sk-estimator:hover label.sk-toggleable__label-arrow:before {color: black;}#sk-container-id-2 div.sk-toggleable__content {max-height: 0;max-width: 0;overflow: hidden;text-align: left;background-color: #f0f8ff;}#sk-container-id-2 div.sk-toggleable__content pre {margin: 0.2em;color: black;border-radius: 0.25em;background-color: #f0f8ff;}#sk-container-id-2 input.sk-toggleable__control:checked~div.sk-toggleable__content {max-height: 200px;max-width: 100%;overflow: auto;}#sk-container-id-2 input.sk-toggleable__control:checked~label.sk-toggleable__label-arrow:before {content: \"▾\";}#sk-container-id-2 div.sk-estimator input.sk-toggleable__control:checked~label.sk-toggleable__label {background-color: #d4ebff;}#sk-container-id-2 div.sk-label input.sk-toggleable__control:checked~label.sk-toggleable__label {background-color: #d4ebff;}#sk-container-id-2 input.sk-hidden--visually {border: 0;clip: rect(1px 1px 1px 1px);clip: rect(1px, 1px, 1px, 1px);height: 1px;margin: -1px;overflow: hidden;padding: 0;position: absolute;width: 1px;}#sk-container-id-2 div.sk-estimator {font-family: monospace;background-color: #f0f8ff;border: 1px dotted black;border-radius: 0.25em;box-sizing: border-box;margin-bottom: 0.5em;}#sk-container-id-2 div.sk-estimator:hover {background-color: #d4ebff;}#sk-container-id-2 div.sk-parallel-item::after {content: \"\";width: 100%;border-bottom: 1px solid gray;flex-grow: 1;}#sk-container-id-2 div.sk-label:hover label.sk-toggleable__label {background-color: #d4ebff;}#sk-container-id-2 div.sk-serial::before {content: \"\";position: absolute;border-left: 1px solid gray;box-sizing: border-box;top: 0;bottom: 0;left: 50%;z-index: 0;}#sk-container-id-2 div.sk-serial {display: flex;flex-direction: column;align-items: center;background-color: white;padding-right: 0.2em;padding-left: 0.2em;position: relative;}#sk-container-id-2 div.sk-item {position: relative;z-index: 1;}#sk-container-id-2 div.sk-parallel {display: flex;align-items: stretch;justify-content: center;background-color: white;position: relative;}#sk-container-id-2 div.sk-item::before, #sk-container-id-2 div.sk-parallel-item::before {content: \"\";position: absolute;border-left: 1px solid gray;box-sizing: border-box;top: 0;bottom: 0;left: 50%;z-index: -1;}#sk-container-id-2 div.sk-parallel-item {display: flex;flex-direction: column;z-index: 1;position: relative;background-color: white;}#sk-container-id-2 div.sk-parallel-item:first-child::after {align-self: flex-end;width: 50%;}#sk-container-id-2 div.sk-parallel-item:last-child::after {align-self: flex-start;width: 50%;}#sk-container-id-2 div.sk-parallel-item:only-child::after {width: 0;}#sk-container-id-2 div.sk-dashed-wrapped {border: 1px dashed gray;margin: 0 0.4em 0.5em 0.4em;box-sizing: border-box;padding-bottom: 0.4em;background-color: white;}#sk-container-id-2 div.sk-label label {font-family: monospace;font-weight: bold;display: inline-block;line-height: 1.2em;}#sk-container-id-2 div.sk-label-container {text-align: center;}#sk-container-id-2 div.sk-container {/* jupyter's `normalize.less` sets `[hidden] { display: none; }` but bootstrap.min.css set `[hidden] { display: none !important; }` so we also need the `!important` here to be able to override the default hidden behavior on the sphinx rendered scikit-learn.org. See: https://github.com/scikit-learn/scikit-learn/issues/21755 */display: inline-block !important;position: relative;}#sk-container-id-2 div.sk-text-repr-fallback {display: none;}</style><div id=\"sk-container-id-2\" class=\"sk-top-container\"><div class=\"sk-text-repr-fallback\"><pre>RandomForestClassifier(n_estimators=25, random_state=42)</pre><b>In a Jupyter environment, please rerun this cell to show the HTML representation or trust the notebook. <br />On GitHub, the HTML representation is unable to render, please try loading this page with nbviewer.org.</b></div><div class=\"sk-container\" hidden><div class=\"sk-item\"><div class=\"sk-estimator sk-toggleable\"><input class=\"sk-toggleable__control sk-hidden--visually\" id=\"sk-estimator-id-2\" type=\"checkbox\" checked><label for=\"sk-estimator-id-2\" class=\"sk-toggleable__label sk-toggleable__label-arrow\">RandomForestClassifier</label><div class=\"sk-toggleable__content\"><pre>RandomForestClassifier(n_estimators=25, random_state=42)</pre></div></div></div></div></div>"
      ],
      "text/plain": [
       "RandomForestClassifier(n_estimators=25, random_state=42)"
      ]
     },
     "execution_count": 53,
     "metadata": {},
     "output_type": "execute_result"
    }
   ],
   "source": [
    "org_rf.fit(X_train, y_train)"
   ]
  },
  {
   "cell_type": "code",
   "execution_count": 54,
   "id": "91fe69a9-6b17-4e70-b006-8c3e0e15f7ba",
   "metadata": {},
   "outputs": [
    {
     "data": {
      "text/plain": [
       "0.9986376021798365"
      ]
     },
     "execution_count": 54,
     "metadata": {},
     "output_type": "execute_result"
    }
   ],
   "source": [
    "org_rf.score(X_train, y_train)"
   ]
  },
  {
   "cell_type": "code",
   "execution_count": 55,
   "id": "16606e8f-5978-4844-a883-4a4dfe206d95",
   "metadata": {},
   "outputs": [
    {
     "data": {
      "text/plain": [
       "0.8315217391304348"
      ]
     },
     "execution_count": 55,
     "metadata": {},
     "output_type": "execute_result"
    }
   ],
   "source": [
    "org_rf.score(X_test,y_test)"
   ]
  },
  {
   "cell_type": "code",
   "execution_count": 56,
   "id": "1df47118-a89b-4457-9886-6b02fb2faba6",
   "metadata": {},
   "outputs": [],
   "source": [
    "test_preds = org_rf.predict(X_test)"
   ]
  },
  {
   "cell_type": "code",
   "execution_count": 57,
   "id": "47bb8437-17ed-4aa7-8de3-e641487b5131",
   "metadata": {},
   "outputs": [
    {
     "data": {
      "text/plain": [
       "array([[74, 20],\n",
       "       [11, 79]])"
      ]
     },
     "execution_count": 57,
     "metadata": {},
     "output_type": "execute_result"
    }
   ],
   "source": [
    "cm = confusion_matrix(y_test, test_preds)\n",
    "cm"
   ]
  },
  {
   "cell_type": "code",
   "execution_count": 58,
   "id": "e9e6a717-b3c4-44eb-b423-b2d74246ff3a",
   "metadata": {},
   "outputs": [
    {
     "data": {
      "text/plain": [
       "<Axes: >"
      ]
     },
     "execution_count": 58,
     "metadata": {},
     "output_type": "execute_result"
    },
    {
     "data": {
      "image/png": "[encoded data removed]",
      "text/plain": [
       "<Figure size 640x480 with 2 Axes>"
      ]
     },
     "metadata": {},
     "output_type": "display_data"
    }
   ],
   "source": [
    "sns.heatmap(cm, annot = True)"
   ]
  },
  {
   "cell_type": "code",
   "execution_count": 59,
   "id": "62ad5a1d-c5d3-44fe-98d6-e5d2dc59918e",
   "metadata": {},
   "outputs": [
    {
     "data": {
      "text/plain": [
       "0.835978835978836"
      ]
     },
     "execution_count": 59,
     "metadata": {},
     "output_type": "execute_result"
    }
   ],
   "source": [
    "f1_score(y_test, test_preds)"
   ]
  },
  {
   "cell_type": "markdown",
   "id": "7f22153c-fb0e-426e-9098-83dd5d0eeb00",
   "metadata": {},
   "source": [
    "#### Check Feature Importance"
   ]
  },
  {
   "cell_type": "code",
   "execution_count": 60,
   "id": "c72e310d-148a-4104-a6f0-9e2db6daddef",
   "metadata": {},
   "outputs": [
    {
     "data": {
      "text/html": [
       "<div>\n",
       "<style scoped>\n",
       "    .dataframe tbody tr th:only-of-type {\n",
       "        vertical-align: middle;\n",
       "    }\n",
       "\n",
       "    .dataframe tbody tr th {\n",
       "        vertical-align: top;\n",
       "    }\n",
       "\n",
       "    .dataframe thead th {\n",
       "        text-align: right;\n",
       "    }\n",
       "</style>\n",
       "<table border=\"1\" class=\"dataframe\">\n",
       "  <thead>\n",
       "    <tr style=\"text-align: right;\">\n",
       "      <th></th>\n",
       "      <th>Feature</th>\n",
       "      <th>Importance</th>\n",
       "    </tr>\n",
       "  </thead>\n",
       "  <tbody>\n",
       "    <tr>\n",
       "      <th>0</th>\n",
       "      <td>age</td>\n",
       "      <td>0.109723</td>\n",
       "    </tr>\n",
       "    <tr>\n",
       "      <th>1</th>\n",
       "      <td>sex</td>\n",
       "      <td>0.039850</td>\n",
       "    </tr>\n",
       "    <tr>\n",
       "      <th>2</th>\n",
       "      <td>chest_pain_type</td>\n",
       "      <td>0.156367</td>\n",
       "    </tr>\n",
       "    <tr>\n",
       "      <th>3</th>\n",
       "      <td>resting_admission_bp</td>\n",
       "      <td>0.084183</td>\n",
       "    </tr>\n",
       "    <tr>\n",
       "      <th>4</th>\n",
       "      <td>serum_cholesterol</td>\n",
       "      <td>0.158327</td>\n",
       "    </tr>\n",
       "    <tr>\n",
       "      <th>5</th>\n",
       "      <td>fasting_blood_sugar</td>\n",
       "      <td>0.018918</td>\n",
       "    </tr>\n",
       "    <tr>\n",
       "      <th>6</th>\n",
       "      <td>resting_ecg_results</td>\n",
       "      <td>0.026607</td>\n",
       "    </tr>\n",
       "    <tr>\n",
       "      <th>7</th>\n",
       "      <td>max_heart_rate</td>\n",
       "      <td>0.128166</td>\n",
       "    </tr>\n",
       "    <tr>\n",
       "      <th>8</th>\n",
       "      <td>exercise_induced_angina</td>\n",
       "      <td>0.090339</td>\n",
       "    </tr>\n",
       "    <tr>\n",
       "      <th>9</th>\n",
       "      <td>oldpeak</td>\n",
       "      <td>0.110234</td>\n",
       "    </tr>\n",
       "    <tr>\n",
       "      <th>10</th>\n",
       "      <td>slope_peak_st_segment</td>\n",
       "      <td>0.022040</td>\n",
       "    </tr>\n",
       "    <tr>\n",
       "      <th>11</th>\n",
       "      <td>num_vessels_colored</td>\n",
       "      <td>0.020215</td>\n",
       "    </tr>\n",
       "    <tr>\n",
       "      <th>12</th>\n",
       "      <td>thal</td>\n",
       "      <td>0.035029</td>\n",
       "    </tr>\n",
       "  </tbody>\n",
       "</table>\n",
       "</div>"
      ],
      "text/plain": [
       "                    Feature  Importance\n",
       "0                       age    0.109723\n",
       "1                       sex    0.039850\n",
       "2           chest_pain_type    0.156367\n",
       "3      resting_admission_bp    0.084183\n",
       "4         serum_cholesterol    0.158327\n",
       "5       fasting_blood_sugar    0.018918\n",
       "6       resting_ecg_results    0.026607\n",
       "7            max_heart_rate    0.128166\n",
       "8   exercise_induced_angina    0.090339\n",
       "9                   oldpeak    0.110234\n",
       "10    slope_peak_st_segment    0.022040\n",
       "11      num_vessels_colored    0.020215\n",
       "12                     thal    0.035029"
      ]
     },
     "execution_count": 60,
     "metadata": {},
     "output_type": "execute_result"
    }
   ],
   "source": [
    "importance_df = pd.DataFrame({\n",
    "    'Feature': X_train.columns,\n",
    "    'Importance': org_rf.feature_importances_\n",
    "})\n",
    "\n",
    "importance_df.sort_values(\"Importance\",\n",
    "                          ascending=False)\n",
    "importance_df"
   ]
  },
  {
   "cell_type": "markdown",
   "id": "67afdef5-eea3-4203-9c09-65fafe894d74",
   "metadata": {},
   "source": [
    "### Random Forest - Hyperparamter Tuning"
   ]
  },
  {
   "cell_type": "code",
   "execution_count": 61,
   "id": "664c1775-e289-45ef-aa00-25eeb90e41a0",
   "metadata": {},
   "outputs": [],
   "source": [
    "parameters = {'n_estimators': [50, 100, 500] , \n",
    "              'max_depth' : [3,5, 7 ]\n",
    "             }\n",
    "rf = RandomForestClassifier(random_state = RANDOM_STATE)\n",
    "rf_clf = GridSearchCV(rf, \n",
    "                      parameters)"
   ]
  },
  {
   "cell_type": "code",
   "execution_count": 62,
   "id": "a0210700-74e3-4aaf-bec9-23bc86d54fbe",
   "metadata": {},
   "outputs": [
    {
     "data": {
      "text/html": [
       "<style>#sk-container-id-3 {color: black;}#sk-container-id-3 pre{padding: 0;}#sk-container-id-3 div.sk-toggleable {background-color: white;}#sk-container-id-3 label.sk-toggleable__label {cursor: pointer;display: block;width: 100%;margin-bottom: 0;padding: 0.3em;box-sizing: border-box;text-align: center;}#sk-container-id-3 label.sk-toggleable__label-arrow:before {content: \"▸\";float: left;margin-right: 0.25em;color: #696969;}#sk-container-id-3 label.sk-toggleable__label-arrow:hover:before {color: black;}#sk-container-id-3 div.sk-estimator:hover label.sk-toggleable__label-arrow:before {color: black;}#sk-container-id-3 div.sk-toggleable__content {max-height: 0;max-width: 0;overflow: hidden;text-align: left;background-color: #f0f8ff;}#sk-container-id-3 div.sk-toggleable__content pre {margin: 0.2em;color: black;border-radius: 0.25em;background-color: #f0f8ff;}#sk-container-id-3 input.sk-toggleable__control:checked~div.sk-toggleable__content {max-height: 200px;max-width: 100%;overflow: auto;}#sk-container-id-3 input.sk-toggleable__control:checked~label.sk-toggleable__label-arrow:before {content: \"▾\";}#sk-container-id-3 div.sk-estimator input.sk-toggleable__control:checked~label.sk-toggleable__label {background-color: #d4ebff;}#sk-container-id-3 div.sk-label input.sk-toggleable__control:checked~label.sk-toggleable__label {background-color: #d4ebff;}#sk-container-id-3 input.sk-hidden--visually {border: 0;clip: rect(1px 1px 1px 1px);clip: rect(1px, 1px, 1px, 1px);height: 1px;margin: -1px;overflow: hidden;padding: 0;position: absolute;width: 1px;}#sk-container-id-3 div.sk-estimator {font-family: monospace;background-color: #f0f8ff;border: 1px dotted black;border-radius: 0.25em;box-sizing: border-box;margin-bottom: 0.5em;}#sk-container-id-3 div.sk-estimator:hover {background-color: #d4ebff;}#sk-container-id-3 div.sk-parallel-item::after {content: \"\";width: 100%;border-bottom: 1px solid gray;flex-grow: 1;}#sk-container-id-3 div.sk-label:hover label.sk-toggleable__label {background-color: #d4ebff;}#sk-container-id-3 div.sk-serial::before {content: \"\";position: absolute;border-left: 1px solid gray;box-sizing: border-box;top: 0;bottom: 0;left: 50%;z-index: 0;}#sk-container-id-3 div.sk-serial {display: flex;flex-direction: column;align-items: center;background-color: white;padding-right: 0.2em;padding-left: 0.2em;position: relative;}#sk-container-id-3 div.sk-item {position: relative;z-index: 1;}#sk-container-id-3 div.sk-parallel {display: flex;align-items: stretch;justify-content: center;background-color: white;position: relative;}#sk-container-id-3 div.sk-item::before, #sk-container-id-3 div.sk-parallel-item::before {content: \"\";position: absolute;border-left: 1px solid gray;box-sizing: border-box;top: 0;bottom: 0;left: 50%;z-index: -1;}#sk-container-id-3 div.sk-parallel-item {display: flex;flex-direction: column;z-index: 1;position: relative;background-color: white;}#sk-container-id-3 div.sk-parallel-item:first-child::after {align-self: flex-end;width: 50%;}#sk-container-id-3 div.sk-parallel-item:last-child::after {align-self: flex-start;width: 50%;}#sk-container-id-3 div.sk-parallel-item:only-child::after {width: 0;}#sk-container-id-3 div.sk-dashed-wrapped {border: 1px dashed gray;margin: 0 0.4em 0.5em 0.4em;box-sizing: border-box;padding-bottom: 0.4em;background-color: white;}#sk-container-id-3 div.sk-label label {font-family: monospace;font-weight: bold;display: inline-block;line-height: 1.2em;}#sk-container-id-3 div.sk-label-container {text-align: center;}#sk-container-id-3 div.sk-container {/* jupyter's `normalize.less` sets `[hidden] { display: none; }` but bootstrap.min.css set `[hidden] { display: none !important; }` so we also need the `!important` here to be able to override the default hidden behavior on the sphinx rendered scikit-learn.org. See: https://github.com/scikit-learn/scikit-learn/issues/21755 */display: inline-block !important;position: relative;}#sk-container-id-3 div.sk-text-repr-fallback {display: none;}</style><div id=\"sk-container-id-3\" class=\"sk-top-container\"><div class=\"sk-text-repr-fallback\"><pre>GridSearchCV(estimator=RandomForestClassifier(random_state=42),\n",
       "             param_grid={&#x27;max_depth&#x27;: [3, 5, 7],\n",
       "                         &#x27;n_estimators&#x27;: [50, 100, 500]})</pre><b>In a Jupyter environment, please rerun this cell to show the HTML representation or trust the notebook. <br />On GitHub, the HTML representation is unable to render, please try loading this page with nbviewer.org.</b></div><div class=\"sk-container\" hidden><div class=\"sk-item sk-dashed-wrapped\"><div class=\"sk-label-container\"><div class=\"sk-label sk-toggleable\"><input class=\"sk-toggleable__control sk-hidden--visually\" id=\"sk-estimator-id-3\" type=\"checkbox\" ><label for=\"sk-estimator-id-3\" class=\"sk-toggleable__label sk-toggleable__label-arrow\">GridSearchCV</label><div class=\"sk-toggleable__content\"><pre>GridSearchCV(estimator=RandomForestClassifier(random_state=42),\n",
       "             param_grid={&#x27;max_depth&#x27;: [3, 5, 7],\n",
       "                         &#x27;n_estimators&#x27;: [50, 100, 500]})</pre></div></div></div><div class=\"sk-parallel\"><div class=\"sk-parallel-item\"><div class=\"sk-item\"><div class=\"sk-label-container\"><div class=\"sk-label sk-toggleable\"><input class=\"sk-toggleable__control sk-hidden--visually\" id=\"sk-estimator-id-4\" type=\"checkbox\" ><label for=\"sk-estimator-id-4\" class=\"sk-toggleable__label sk-toggleable__label-arrow\">estimator: RandomForestClassifier</label><div class=\"sk-toggleable__content\"><pre>RandomForestClassifier(random_state=42)</pre></div></div></div><div class=\"sk-serial\"><div class=\"sk-item\"><div class=\"sk-estimator sk-toggleable\"><input class=\"sk-toggleable__control sk-hidden--visually\" id=\"sk-estimator-id-5\" type=\"checkbox\" ><label for=\"sk-estimator-id-5\" class=\"sk-toggleable__label sk-toggleable__label-arrow\">RandomForestClassifier</label><div class=\"sk-toggleable__content\"><pre>RandomForestClassifier(random_state=42)</pre></div></div></div></div></div></div></div></div></div></div>"
      ],
      "text/plain": [
       "GridSearchCV(estimator=RandomForestClassifier(random_state=42),\n",
       "             param_grid={'max_depth': [3, 5, 7],\n",
       "                         'n_estimators': [50, 100, 500]})"
      ]
     },
     "execution_count": 62,
     "metadata": {},
     "output_type": "execute_result"
    }
   ],
   "source": [
    "rf_clf.fit(X_train, y_train)"
   ]
  },
  {
   "cell_type": "code",
   "execution_count": 63,
   "id": "bc76c147-1741-442e-ba32-1c4e1d449afe",
   "metadata": {},
   "outputs": [
    {
     "data": {
      "text/plain": [
       "0.811965334078837"
      ]
     },
     "execution_count": 63,
     "metadata": {},
     "output_type": "execute_result"
    }
   ],
   "source": [
    "rf_clf.best_score_"
   ]
  },
  {
   "cell_type": "code",
   "execution_count": 64,
   "id": "a1cbafbc-7dbe-407c-ad71-d779b3c3d9fc",
   "metadata": {},
   "outputs": [
    {
     "data": {
      "text/html": [
       "<style>#sk-container-id-4 {color: black;}#sk-container-id-4 pre{padding: 0;}#sk-container-id-4 div.sk-toggleable {background-color: white;}#sk-container-id-4 label.sk-toggleable__label {cursor: pointer;display: block;width: 100%;margin-bottom: 0;padding: 0.3em;box-sizing: border-box;text-align: center;}#sk-container-id-4 label.sk-toggleable__label-arrow:before {content: \"▸\";float: left;margin-right: 0.25em;color: #696969;}#sk-container-id-4 label.sk-toggleable__label-arrow:hover:before {color: black;}#sk-container-id-4 div.sk-estimator:hover label.sk-toggleable__label-arrow:before {color: black;}#sk-container-id-4 div.sk-toggleable__content {max-height: 0;max-width: 0;overflow: hidden;text-align: left;background-color: #f0f8ff;}#sk-container-id-4 div.sk-toggleable__content pre {margin: 0.2em;color: black;border-radius: 0.25em;background-color: #f0f8ff;}#sk-container-id-4 input.sk-toggleable__control:checked~div.sk-toggleable__content {max-height: 200px;max-width: 100%;overflow: auto;}#sk-container-id-4 input.sk-toggleable__control:checked~label.sk-toggleable__label-arrow:before {content: \"▾\";}#sk-container-id-4 div.sk-estimator input.sk-toggleable__control:checked~label.sk-toggleable__label {background-color: #d4ebff;}#sk-container-id-4 div.sk-label input.sk-toggleable__control:checked~label.sk-toggleable__label {background-color: #d4ebff;}#sk-container-id-4 input.sk-hidden--visually {border: 0;clip: rect(1px 1px 1px 1px);clip: rect(1px, 1px, 1px, 1px);height: 1px;margin: -1px;overflow: hidden;padding: 0;position: absolute;width: 1px;}#sk-container-id-4 div.sk-estimator {font-family: monospace;background-color: #f0f8ff;border: 1px dotted black;border-radius: 0.25em;box-sizing: border-box;margin-bottom: 0.5em;}#sk-container-id-4 div.sk-estimator:hover {background-color: #d4ebff;}#sk-container-id-4 div.sk-parallel-item::after {content: \"\";width: 100%;border-bottom: 1px solid gray;flex-grow: 1;}#sk-container-id-4 div.sk-label:hover label.sk-toggleable__label {background-color: #d4ebff;}#sk-container-id-4 div.sk-serial::before {content: \"\";position: absolute;border-left: 1px solid gray;box-sizing: border-box;top: 0;bottom: 0;left: 50%;z-index: 0;}#sk-container-id-4 div.sk-serial {display: flex;flex-direction: column;align-items: center;background-color: white;padding-right: 0.2em;padding-left: 0.2em;position: relative;}#sk-container-id-4 div.sk-item {position: relative;z-index: 1;}#sk-container-id-4 div.sk-parallel {display: flex;align-items: stretch;justify-content: center;background-color: white;position: relative;}#sk-container-id-4 div.sk-item::before, #sk-container-id-4 div.sk-parallel-item::before {content: \"\";position: absolute;border-left: 1px solid gray;box-sizing: border-box;top: 0;bottom: 0;left: 50%;z-index: -1;}#sk-container-id-4 div.sk-parallel-item {display: flex;flex-direction: column;z-index: 1;position: relative;background-color: white;}#sk-container-id-4 div.sk-parallel-item:first-child::after {align-self: flex-end;width: 50%;}#sk-container-id-4 div.sk-parallel-item:last-child::after {align-self: flex-start;width: 50%;}#sk-container-id-4 div.sk-parallel-item:only-child::after {width: 0;}#sk-container-id-4 div.sk-dashed-wrapped {border: 1px dashed gray;margin: 0 0.4em 0.5em 0.4em;box-sizing: border-box;padding-bottom: 0.4em;background-color: white;}#sk-container-id-4 div.sk-label label {font-family: monospace;font-weight: bold;display: inline-block;line-height: 1.2em;}#sk-container-id-4 div.sk-label-container {text-align: center;}#sk-container-id-4 div.sk-container {/* jupyter's `normalize.less` sets `[hidden] { display: none; }` but bootstrap.min.css set `[hidden] { display: none !important; }` so we also need the `!important` here to be able to override the default hidden behavior on the sphinx rendered scikit-learn.org. See: https://github.com/scikit-learn/scikit-learn/issues/21755 */display: inline-block !important;position: relative;}#sk-container-id-4 div.sk-text-repr-fallback {display: none;}</style><div id=\"sk-container-id-4\" class=\"sk-top-container\"><div class=\"sk-text-repr-fallback\"><pre>RandomForestClassifier(max_depth=7, n_estimators=500, random_state=42)</pre><b>In a Jupyter environment, please rerun this cell to show the HTML representation or trust the notebook. <br />On GitHub, the HTML representation is unable to render, please try loading this page with nbviewer.org.</b></div><div class=\"sk-container\" hidden><div class=\"sk-item\"><div class=\"sk-estimator sk-toggleable\"><input class=\"sk-toggleable__control sk-hidden--visually\" id=\"sk-estimator-id-6\" type=\"checkbox\" checked><label for=\"sk-estimator-id-6\" class=\"sk-toggleable__label sk-toggleable__label-arrow\">RandomForestClassifier</label><div class=\"sk-toggleable__content\"><pre>RandomForestClassifier(max_depth=7, n_estimators=500, random_state=42)</pre></div></div></div></div></div>"
      ],
      "text/plain": [
       "RandomForestClassifier(max_depth=7, n_estimators=500, random_state=42)"
      ]
     },
     "execution_count": 64,
     "metadata": {},
     "output_type": "execute_result"
    }
   ],
   "source": [
    "rf_clf.best_estimator_"
   ]
  },
  {
   "cell_type": "code",
   "execution_count": 65,
   "id": "fbe96352-0a48-4e97-bbf9-47b4676a6926",
   "metadata": {},
   "outputs": [
    {
     "data": {
      "text/plain": [
       "0.8695652173913043"
      ]
     },
     "execution_count": 65,
     "metadata": {},
     "output_type": "execute_result"
    }
   ],
   "source": [
    "best_estimator = rf_clf.best_estimator_\n",
    "best_rf_preds = best_estimator.predict(X_test)\n",
    "best_estimator.score(X_test,y_test)"
   ]
  },
  {
   "cell_type": "code",
   "execution_count": 66,
   "id": "ebcfb510-1443-4862-a8d7-fa3764aca0cd",
   "metadata": {},
   "outputs": [
    {
     "data": {
      "text/plain": [
       "0.8723404255319148"
      ]
     },
     "execution_count": 66,
     "metadata": {},
     "output_type": "execute_result"
    }
   ],
   "source": [
    "f1_score(y_test, best_rf_preds)"
   ]
  },
  {
   "cell_type": "code",
   "execution_count": 67,
   "id": "70ee5752-b26c-4b95-9ad8-24f37152fd4c",
   "metadata": {},
   "outputs": [
    {
     "data": {
      "text/plain": [
       "array([[78, 16],\n",
       "       [ 8, 82]])"
      ]
     },
     "execution_count": 67,
     "metadata": {},
     "output_type": "execute_result"
    }
   ],
   "source": [
    "cm = confusion_matrix(y_test, best_rf_preds )\n",
    "cm"
   ]
  },
  {
   "cell_type": "code",
   "execution_count": 68,
   "id": "b039a58c-9f75-4b11-aafe-ec3186e26f61",
   "metadata": {},
   "outputs": [
    {
     "data": {
      "text/plain": [
       "<Axes: >"
      ]
     },
     "execution_count": 68,
     "metadata": {},
     "output_type": "execute_result"
    },
    {
     "data": {
      "image/png": "[encoded data removed]",
      "text/plain": [
       "<Figure size 640x480 with 2 Axes>"
      ]
     },
     "metadata": {},
     "output_type": "display_data"
    }
   ],
   "source": [
    "sns.heatmap(cm, annot = True)"
   ]
  },
  {
   "cell_type": "code",
   "execution_count": 69,
   "id": "b25538ee-2ae0-43d2-be56-57d904b2bce0",
   "metadata": {},
   "outputs": [
    {
     "data": {
      "text/plain": [
       "0.8367346938775511"
      ]
     },
     "execution_count": 69,
     "metadata": {},
     "output_type": "execute_result"
    }
   ],
   "source": [
    "# tp / (tp + fp) \n",
    "precision_score(y_test, best_rf_preds)"
   ]
  },
  {
   "cell_type": "code",
   "execution_count": 70,
   "id": "bf89141b-736a-419f-925f-8b2105ca35ca",
   "metadata": {},
   "outputs": [
    {
     "data": {
      "text/plain": [
       "0.9111111111111111"
      ]
     },
     "execution_count": 70,
     "metadata": {},
     "output_type": "execute_result"
    }
   ],
   "source": [
    "# tp/ (tp + fn) \n",
    "recall_score(y_test, best_rf_preds)"
   ]
  }
 ],
 "metadata": {
  "kernelspec": {
   "display_name": "Python 3 (ipykernel)",
   "language": "python",
   "name": "python3"
  },
  "language_info": {
   "codemirror_mode": {
    "name": "ipython",
    "version": 3
   },
   "file_extension": ".py",
   "mimetype": "text/x-python",
   "name": "python",
   "nbconvert_exporter": "python",
   "pygments_lexer": "ipython3",
   "version": "3.8.10"
  }
 },
 "nbformat": 4,
 "nbformat_minor": 5
}
